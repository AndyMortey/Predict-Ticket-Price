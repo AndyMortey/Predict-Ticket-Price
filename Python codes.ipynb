{
 "cells": [
  {
   "cell_type": "code",
   "execution_count": null,
   "metadata": {},
   "outputs": [],
   "source": [
    "#Import the necessary packages\n",
    "import pandas as pd\n",
    "import numpy as np\n",
    "import matplotlib.pyplot as plt\n",
    "import statsmodels.api as sm\n",
    "import statsmodels.formula.api as smf\n",
    "\n",
    "#Load the dataset\n",
    "df_titanic = pd.read_csv('titanic-Indivi.csv')\n",
    "df_titanic.head()\n",
    "\n",
    "#Data Preparation\n",
    "##Check all missing data\n",
    "df_titanic.isnull().sum()\n",
    "\n",
    "#Dealing With Missing Data\n",
    "##Fill missing values in the Embarked column with the mode of the column\n",
    "df_titanic['Embarked'].fillna(df_titanic['Embarked'].mode()[0],inplace=True)\n",
    "\n",
    "##Extract prefix from name\n",
    "df_titanic['Title'] = df_titanic.Name.str.extract('([A-Za-z]+\\.)')\n",
    "\n",
    "##Convert 'Title' to Upper Case to ensure we get accurate mean age of each initial\n",
    "df_titanic['Title'] = df_titanic['Title'].str.upper()\n",
    "\n",
    "##This counts each title in the column with it frequency\n",
    "title_counts = df_titanic['Title'].value_counts()\n",
    "print(title_counts)\n",
    "\n",
    "##Fill missing values in the \"Age\" column based on the mean age for each title\n",
    "df_titanic['Age'].fillna(df_titanic.groupby('Title')['Age'].transform('mean'), inplace=True)\n",
    "\n",
    "#Feature Engineering\n",
    "##Create a new column FamilySize. There are 2 columns related to family size, \n",
    "##parch indicates parent or children number, Sibsp indicates sibling and spouse number.\n",
    "#FamilySize = Parch + SibSp + 1\n",
    "#This creates a new column 'FamilySize' by adding the 'Parch' and 'SibSp' columns and then + 1\n",
    "df_titanic['FamilySize'] = df_titanic['Parch'] + df_titanic['SibSp'] + 1\n",
    "\n",
    "#This will create a dataframe containing only the rows where the \"Name\" column contains the string 'Asplund'.\n",
    "asplund_passengers = df_titanic[df_titanic['Name'].str.contains('Asplund')]\n",
    "\n",
    "#Modeling\n",
    "##Construct regression model with statsmodels. Select Pclass, Embarked, FamilySize as independent variables.\n",
    "\n",
    "#Convert 'Fare' column to numeric\n",
    "df_titanic['Fare'] = pd.to_numeric(df_titanic['Fare'].replace('[\\$,]', '', regex=True), errors='coerce')\n",
    "\n",
    "#Fit the regression model using the formula API\n",
    "result = smf.ols(formula=\"Fare ~ C(Pclass) + C(Embarked) + FamilySize\", data=df_titanic).fit()\n",
    "\n",
    "#Show results\n",
    "print(result.summary())"
   ]
  }
 ],
 "metadata": {
  "kernelspec": {
   "display_name": "Python 3 (ipykernel)",
   "language": "python",
   "name": "python3"
  },
  "language_info": {
   "codemirror_mode": {
    "name": "ipython",
    "version": 3
   },
   "file_extension": ".py",
   "mimetype": "text/x-python",
   "name": "python",
   "nbconvert_exporter": "python",
   "pygments_lexer": "ipython3",
   "version": "3.10.9"
  }
 },
 "nbformat": 4,
 "nbformat_minor": 2
}
